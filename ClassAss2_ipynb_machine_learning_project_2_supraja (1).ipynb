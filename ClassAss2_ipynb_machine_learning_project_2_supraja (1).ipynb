{
  "nbformat": 4,
  "nbformat_minor": 0,
  "metadata": {
    "colab": {
      "provenance": []
    },
    "kernelspec": {
      "name": "python3",
      "display_name": "Python 3"
    },
    "language_info": {
      "name": "python"
    }
  },
  "cells": [
    {
      "cell_type": "code",
      "execution_count": null,
      "metadata": {
        "colab": {
          "base_uri": "https://localhost:8080/"
        },
        "id": "lJ6ebuWGZpsG",
        "outputId": "f5be0189-163c-4042-f7e2-66903a523064"
      },
      "outputs": [
        {
          "output_type": "stream",
          "name": "stdout",
          "text": [
            "\n",
            "* \n",
            "* * \n",
            "* * * \n",
            "* * * * \n",
            "* * * * * \n",
            "* * * * \n",
            "* * * \n",
            "* * \n",
            "* \n"
          ]
        }
      ],
      "source": [
        "value = 6\n",
        "for p in range(0,value):\n",
        "  print('* '*p)\n",
        "for q in range(p-1,0,-1):\n",
        "  print('* '*q)"
      ]
    },
    {
      "cell_type": "code",
      "source": [],
      "metadata": {
        "id": "5mYzaxX_X-sr"
      },
      "execution_count": null,
      "outputs": []
    },
    {
      "cell_type": "code",
      "source": [],
      "metadata": {
        "id": "0zO8QqWIX_Ht"
      },
      "execution_count": null,
      "outputs": []
    },
    {
      "cell_type": "code",
      "source": [
        "my_list = [10, 20, 30, 40, 50, 60, 70, 80, 90, 100]\n",
        "length = len(my_list)\n",
        "for item in range(0, length):\n",
        "    if item%2 != 0:\n",
        "        print(my_list[item])"
      ],
      "metadata": {
        "colab": {
          "base_uri": "https://localhost:8080/"
        },
        "id": "elej5qLacNGd",
        "outputId": "5bbce4e0-43d3-45b0-ef5a-1db1e2d45f26"
      },
      "execution_count": null,
      "outputs": [
        {
          "output_type": "stream",
          "name": "stdout",
          "text": [
            "20\n",
            "40\n",
            "60\n",
            "80\n",
            "100\n"
          ]
        }
      ]
    },
    {
      "cell_type": "code",
      "source": [
        "x = [23, \"Python\", 23.98]\n",
        "y = []\n",
        "for item in range(len(x)):\n",
        "  y.append(type(x[item]))\n",
        "print(x)\n",
        "print(y)"
      ],
      "metadata": {
        "colab": {
          "base_uri": "https://localhost:8080/"
        },
        "id": "oJuvRPuLcuLL",
        "outputId": "6fda9a3f-39e2-452e-f336-67b87ffd485d"
      },
      "execution_count": null,
      "outputs": [
        {
          "output_type": "stream",
          "name": "stdout",
          "text": [
            "[23, 'Python', 23.98]\n",
            "[<class 'int'>, <class 'str'>, <class 'float'>]\n"
          ]
        }
      ]
    },
    {
      "cell_type": "code",
      "source": [
        "x=[1,2,3,3,3,3,4,5]\n",
        "def fun(list_1):\n",
        "    list_2 = list(set(list_1))\n",
        "    return list_2\n",
        "print(fun(x))"
      ],
      "metadata": {
        "colab": {
          "base_uri": "https://localhost:8080/"
        },
        "id": "kLihWdnRczuU",
        "outputId": "61d8f5ec-c774-4585-ba58-43af0c6f90f5"
      },
      "execution_count": null,
      "outputs": [
        {
          "output_type": "stream",
          "name": "stdout",
          "text": [
            "[1, 2, 3, 4, 5]\n"
          ]
        }
      ]
    },
    {
      "cell_type": "code",
      "source": [
        "g='The quick Brow Fox'\n",
        "def fun(st1):\n",
        "    u = 0\n",
        "    l = 0\n",
        "    for item in st1:\n",
        "        if item.isupper():\n",
        "            u=u+1\n",
        "        elif item.islower():\n",
        "            l=l+1\n",
        "        else:\n",
        "            continue\n",
        "    print('No. of Upper-case Characters: ' + str(u))\n",
        "    print('No. of Lower-case Characters: ' + str(l))\n",
        "fun(g)"
      ],
      "metadata": {
        "colab": {
          "base_uri": "https://localhost:8080/"
        },
        "id": "pyqhBXMXc7n_",
        "outputId": "d85bca31-e63c-48cc-d28c-1e5ef30ffc84"
      },
      "execution_count": null,
      "outputs": [
        {
          "output_type": "stream",
          "name": "stdout",
          "text": [
            "No. of Upper-case Characters: 3\n",
            "No. of Lower-case Characters: 12\n"
          ]
        }
      ]
    }
  ]
}